{
 "cells": [
  {
   "cell_type": "code",
   "execution_count": null,
   "id": "d2f8bd65",
   "metadata": {},
   "outputs": [],
   "source": [
    "# !pip install pyhive"
   ]
  },
  {
   "cell_type": "code",
   "execution_count": null,
   "id": "cc58d989",
   "metadata": {},
   "outputs": [],
   "source": [
    "import pandas as pd\n",
    "from pyhive import presto\n",
    "\n",
    "## 안에 내용을 수정하여 사용해야함 ##\n",
    "cursor = presto.connect(host = '##연결할 주소##', port = ##포트##.\n",
    "                       username = '##회사 아이디##', password = '##회사 비밀번호##', protocol ='http').cursor\n",
    "\n",
    "query = \\\n",
    "'''\n",
    "\n",
    "MySQL 문법으로 쿼리를 작성\n",
    "\n",
    "'''\n",
    "\n",
    "execute = cursor.execute(query)\n",
    "fetchall = cursor.fetchall()"
   ]
  },
  {
   "cell_type": "code",
   "execution_count": null,
   "id": "e56be1aa",
   "metadata": {},
   "outputs": [],
   "source": [
    "# 데이터 프레임 형태로 변환\n",
    "\n",
    "df = pd.DataFrame(fetchall, columns = [ix[0] for ix in cursor.description])\n",
    "\n",
    "# 데이터를 추출하고 연결 종료하는 코드: 실행해야 다른 프로그램에서 데이터베이스 접속 가능.\n",
    "# cursor.close()"
   ]
  },
  {
   "cell_type": "code",
   "execution_count": null,
   "id": "03e35f14",
   "metadata": {},
   "outputs": [],
   "source": [
    "df.head()"
   ]
  },
  {
   "cell_type": "code",
   "execution_count": null,
   "id": "84457d95",
   "metadata": {},
   "outputs": [],
   "source": []
  }
 ],
 "metadata": {
  "kernelspec": {
   "display_name": "Python 3",
   "language": "python",
   "name": "python3"
  },
  "language_info": {
   "codemirror_mode": {
    "name": "ipython",
    "version": 3
   },
   "file_extension": ".py",
   "mimetype": "text/x-python",
   "name": "python",
   "nbconvert_exporter": "python",
   "pygments_lexer": "ipython3",
   "version": "3.8.8"
  }
 },
 "nbformat": 4,
 "nbformat_minor": 5
}
